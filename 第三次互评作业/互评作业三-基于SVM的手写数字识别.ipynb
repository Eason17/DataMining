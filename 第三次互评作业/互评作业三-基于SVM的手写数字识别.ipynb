{
 "cells": [
  {
   "cell_type": "markdown",
   "metadata": {},
   "source": [
    "# 互评作业三：基于支持向量机的手写数字识别\n",
    "\n",
    "## 代码仓库：https://github.com/Eason17/DataMining\n",
    "\n",
    "### 姓名：黄奕棋<br><br>学号：3220220923"
   ]
  },
  {
   "cell_type": "markdown",
   "metadata": {},
   "source": [
    "### 任务介绍\n",
    "\n",
    "本任务采用支持向量机（Support Vector Machine，SVM）方法用于手写数字识别。为了实现这一目标，首先对 MNIST 数据集进行处理，将其划分为训练集和测试集，以便进行模型的训练和评估。\n",
    "\n",
    "MNIST 数据集是一个常用的手写数字数据集，包含大量的手写数字图像和对应的标签。这些图像经过预处理，转化为特征向量，以便输入到支持向量机模型中。通常，MNIST 数据集中的图像被划分为训练集和测试集，其中训练集用于模型的训练，测试集用于评估模型的性能和准确度。\n",
    "\n",
    "接下来，构建支持向量机模型。支持向量机是一种监督学习算法，可用于分类和回归任务。在手写数字识别任务中，我们将使用支持向量机作为分类器，通过训练模型来学习手写数字的特征模式，并进行分类预测。\n",
    "\n",
    "模型的训练阶段包括以下步骤：首先，使用训练集的特征向量和对应的标签，通过支持向量机算法训练模型。训练过程中，支持向量机会通过寻找最优的决策边界，将不同的手写数字样本分开。这样，模型就能够学习到不同数字之间的区分特征。\n",
    "\n",
    "完成模型的训练后，我们将使用测试集来评估模型的性能和准确度。通过将测试集的特征向量输入到训练好的支持向量机模型中，进行预测并与测试集的真实标签进行比较，可以计算模型的准确率、精确率、召回率等评估指标，从而对模型的性能进行评估。\n",
    "\n",
    "通过本文件，我们可以利用支持向量机方法对手写数字进行识别，并通过对训练集和测试集的处理、构建支持向量机模型、模型的训练和评估等步骤，实现对手写数字识别任务的有效处理。"
   ]
  },
  {
   "cell_type": "markdown",
   "metadata": {},
   "source": [
    "### 1. 读取 MNIST 数据：加载并处理手写数字图像数据及其对应的标签。\n",
    "\n",
    "读取MNIST数据，存为numpy数组，并打印其形状，采用官方提供的60000张手写数字图片作为训练数据集。"
   ]
  },
  {
   "cell_type": "code",
   "execution_count": 1,
   "metadata": {},
   "outputs": [
    {
     "name": "stdout",
     "output_type": "stream",
     "text": [
      "(60000,)\n",
      "(60000, 784)\n"
     ]
    }
   ],
   "source": [
    "import sklearn\n",
    "import numpy as np\n",
    "import struct\n",
    "\n",
    "with open('train-labels.idx1-ubyte','rb') as file:\n",
    "    magic, n = struct.unpack('>II',file.read(8))\n",
    "    labels = np.fromfile(file,dtype=np.uint8)\n",
    "with open('train-images.idx3-ubyte', 'rb') as file:\n",
    "    magic, num, rows, cols = struct.unpack('>IIII',file.read(16))\n",
    "    images = np.fromfile(file,dtype=np.uint8).reshape(len(labels), 784)\n",
    "\n",
    "print(labels.shape)\n",
    "print(images.shape)"
   ]
  },
  {
   "cell_type": "markdown",
   "metadata": {},
   "source": [
    "### 2. 划分训练集和测试集：将图像数据划分为训练集和测试集，比例选取为8:2。\n",
    "\n",
    "利用sklearn中提供的随机切分训练集和测试集的内置函数train_test_split，对数据进行切分，并打印其形状，预期切割后的训练数据集和测试数据集具有相同的形状。"
   ]
  },
  {
   "cell_type": "code",
   "execution_count": 4,
   "metadata": {},
   "outputs": [
    {
     "name": "stdout",
     "output_type": "stream",
     "text": [
      "(48000, 784)\n",
      "(12000, 784)\n",
      "(48000,)\n",
      "(12000,)\n"
     ]
    }
   ],
   "source": [
    "from sklearn.model_selection import train_test_split\n",
    "x_train,x_test,y_train,y_test = train_test_split(images,labels,test_size=0.2,random_state=1638)\n",
    "print(x_train.shape)\n",
    "print(x_test.shape)\n",
    "print(y_train.shape)\n",
    "print(y_test.shape)"
   ]
  },
  {
   "cell_type": "markdown",
   "metadata": {},
   "source": [
    "### 3. 特征缩放：对图像数据进行归一化处理，缩放到[0,1]范围。\n",
    "\n",
    "输出训练图像和标签的最大值，根据最大值将数据进行归一化处理。"
   ]
  },
  {
   "cell_type": "code",
   "execution_count": 5,
   "metadata": {},
   "outputs": [
    {
     "name": "stdout",
     "output_type": "stream",
     "text": [
      "255 255\n",
      "9 9\n"
     ]
    }
   ],
   "source": [
    "print(x_train.max(),x_test.max())\n",
    "print(y_train.max(),y_test.max())\n",
    "x_train = x_train.astype('float32')\n",
    "x_test = x_test.astype('float32')\n",
    "x_train /= 255.0\n",
    "x_test /= 255.0"
   ]
  },
  {
   "cell_type": "markdown",
   "metadata": {},
   "source": [
    "### 4. 构建支持向量机模型：选择适当的核函数，训练模型。这里使用径向基核训练模型。"
   ]
  },
  {
   "cell_type": "code",
   "execution_count": 8,
   "metadata": {},
   "outputs": [
    {
     "name": "stdout",
     "output_type": "stream",
     "text": [
      "拟合模型花费的时间为： 157.57565927505493\n"
     ]
    }
   ],
   "source": [
    "from sklearn import svm\n",
    "import time\n",
    "current_time = time.time()\n",
    "model = svm.SVC()\n",
    "model.fit(x_train,y_train)\n",
    "print(\"拟合模型花费的时间为：\", time.time() - current_time)"
   ]
  },
  {
   "cell_type": "markdown",
   "metadata": {},
   "source": [
    "### 5. 模型评估：在测试集上进行预测，计算模型的准确率、精确率、召回率、F1值，评估模型性能。\n",
    "\n",
    "- 准确率（Accuracy）：分类正确的样本数除以总样本数。准确率 = (TP + TN) / (TP + TN + FP + FN)\n",
    "<br><br>\n",
    "- 精确率（Precision）：真正例（True Positive）的样本数除以真正例和假正例（False Positive）的样本数之和。精确率 = TP / (TP + FP)\n",
    "<br><br>\n",
    "- 召回率（Recall）：真正例的样本数除以真正例和假反例（False Negative）的样本数之和。召回率 = TP / (TP + FN)\n",
    "<br><br>\n",
    "- F1 指标：综合考虑了精确率和召回率，是精确率和召回率的调和平均值。F1 = 2 * (精确率 * 召回率) / (精确率 + 召回率)\n",
    "<br><br>\n",
    "其中，TP 表示真正例（模型正确预测为正例的样本数），TN 表示真反例（模型正确预测为反例的样本数），FP 表示假正例（模型错误预测为正例的样本数），FN 表示假反例（模型错误预测为反例的样本数）。"
   ]
  },
  {
   "cell_type": "code",
   "execution_count": 9,
   "metadata": {},
   "outputs": [
    {
     "name": "stdout",
     "output_type": "stream",
     "text": [
      "(12000,)\n"
     ]
    }
   ],
   "source": [
    "# 推理\n",
    "y_out=model.predict(x_test)\n",
    "print(y_out.shape)"
   ]
  },
  {
   "cell_type": "code",
   "execution_count": 10,
   "metadata": {},
   "outputs": [
    {
     "name": "stdout",
     "output_type": "stream",
     "text": [
      "准确率：0.9784\n",
      "精确率：0.9783\n",
      "召回率：0.9783\n",
      "F1：0.9783\n"
     ]
    }
   ],
   "source": [
    "# 计算准确率、精确率、召回率、F1指标\n",
    "from sklearn.metrics import accuracy_score,precision_score,recall_score,f1_score\n",
    "print('准确率：{:.4f}'.format(accuracy_score(y_test,y_out)))\n",
    "print('精确率：{:.4f}'.format(precision_score(y_test,y_out, average='macro')))\n",
    "print('召回率：{:.4f}'.format(recall_score(y_test,y_out, average='macro')))\n",
    "print('F1：{:.4f}'.format(recall_score(y_test,y_out, average='macro')))"
   ]
  },
  {
   "cell_type": "markdown",
   "metadata": {},
   "source": [
    "### 6. 结果分析\n",
    "\n",
    "根据实验结果，我们使用径向基（rbf）作为核函数的支持向量机（SVM）在 MNIST 手写数字识别任务上取得了接近 98% 的准确率。这个准确率相当高，表明我们的实验设置合理，并且模型的性能非常良好。\n",
    "\n",
    "高准确率意味着模型能够准确地识别手写数字图像。在 MNIST 数据集中，有大量的手写数字样本，涵盖了从 0 到 9 的各种数字。通过使用 SVM 模型并将径向基核函数应用于特征空间，我们能够有效地捕捉手写数字图像的复杂特征，并进行准确的分类。表明我们的模型在大多数情况下能够正确地将手写数字分类。这样的结果对于许多实际应用是非常有用的，例如自动识别邮件中的邮政编码、银行支票的数字识别等等。\n",
    "\n",
    "总的来说，基于径向基核函数的 SVM 在 MNIST 手写数字识别任务上取得了令人满意的准确率，这验证了我们实验设置的合理性，并证明了模型的优秀性能。这为进一步应用和改进手写数字识别任务提供了良好的基础。"
   ]
  }
 ],
 "metadata": {
  "kernelspec": {
   "display_name": "Python 3 (ipykernel)",
   "language": "python",
   "name": "python3"
  },
  "language_info": {
   "codemirror_mode": {
    "name": "ipython",
    "version": 3
   },
   "file_extension": ".py",
   "mimetype": "text/x-python",
   "name": "python",
   "nbconvert_exporter": "python",
   "pygments_lexer": "ipython3",
   "version": "3.9.12"
  }
 },
 "nbformat": 4,
 "nbformat_minor": 2
}
